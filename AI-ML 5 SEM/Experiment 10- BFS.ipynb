{
  "nbformat": 4,
  "nbformat_minor": 0,
  "metadata": {
    "colab": {
      "provenance": []
    },
    "kernelspec": {
      "name": "python3",
      "display_name": "Python 3"
    },
    "language_info": {
      "name": "python"
    }
  },
  "cells": [
    {
      "cell_type": "markdown",
      "source": [
        "# Experiment 10- Breadth First Search"
      ],
      "metadata": {
        "id": "XRRheqWTUmoy"
      }
    },
    {
      "cell_type": "markdown",
      "source": [
        "### AIM- Write a program in Python to Solve 3X3 magic square problem using breadth first search"
      ],
      "metadata": {
        "id": "pbEXRAE-Uvi5"
      }
    },
    {
      "cell_type": "code",
      "execution_count": 1,
      "metadata": {
        "colab": {
          "base_uri": "https://localhost:8080/"
        },
        "id": "zUmLldTqUfep",
        "outputId": "c366a35d-5b59-4500-96a3-7fde85920ec7"
      },
      "outputs": [
        {
          "output_type": "stream",
          "name": "stdout",
          "text": [
            "Magic Square for n = 7\n",
            "Sum of each row or column 175.0 \n",
            "\n",
            "20 12  4 45 37 29 28 \n",
            "11  3 44 36 35 27 19 \n",
            " 2 43 42 34 26 18 10 \n",
            "49 41 33 25 17  9  1 \n",
            "40 32 24 16  8  7 48 \n",
            "31 23 15 14  6 47 39 \n",
            "22 21 13  5 46 38 30 \n"
          ]
        }
      ],
      "source": [
        "def generateSquare(n):\n",
        "    magicSquare = [[0 for x in range(n)]\n",
        "                for y in range(n)]\n",
        "    i = n / 2\n",
        "    j = n - 1\n",
        "    num = 1\n",
        "    while num <= (n * n):\n",
        "        if i == -1 and j == n: # 3rd condition\n",
        "            j = n - 2\n",
        "            i = 0\n",
        "        else:\n",
        "            if j == n:\n",
        "                j = 0\n",
        "            if i < 0:\n",
        "                i = n - 1\n",
        "\n",
        "        if magicSquare[int(i)][int(j)]: # 2nd condition\n",
        "            j = j - 2\n",
        "            i = i + 1\n",
        "            continue\n",
        "        else:\n",
        "            magicSquare[int(i)][int(j)] = num\n",
        "            num = num + 1\n",
        "\n",
        "        j = j + 1\n",
        "        i = i - 1 # 1st condition\n",
        "    print(\"Magic Square for n =\", n)\n",
        "    print(\"Sum of each row or column\",\n",
        "        n * (n * n + 1) / 2, \"\\n\")\n",
        "\n",
        "    for i in range(0, n):\n",
        "        for j in range(0, n):\n",
        "            print('%2d ' % (magicSquare[i][j]),\n",
        "                end='')\n",
        "            if j == n - 1:\n",
        "                print()\n",
        "n = 7\n",
        "generateSquare(n)"
      ]
    }
  ]
}