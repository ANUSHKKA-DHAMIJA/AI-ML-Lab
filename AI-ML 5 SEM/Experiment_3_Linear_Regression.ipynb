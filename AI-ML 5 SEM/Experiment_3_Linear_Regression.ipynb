{
  "nbformat": 4,
  "nbformat_minor": 0,
  "metadata": {
    "colab": {
      "provenance": []
    },
    "kernelspec": {
      "name": "python3",
      "display_name": "Python 3"
    },
    "language_info": {
      "name": "python"
    }
  },
  "cells": [
    {
      "cell_type": "markdown",
      "source": [
        "# Experiment 3- Linear Regression"
      ],
      "metadata": {
        "id": "Cfe_e2_cc94V"
      }
    },
    {
      "cell_type": "markdown",
      "source": [
        "### AIM- Predict housing price using univariate linear regression on kc_housing dataset"
      ],
      "metadata": {
        "id": "LX5UvoBgdB0L"
      }
    },
    {
      "cell_type": "markdown",
      "source": [
        "#### We make predictions using models in TensorFlow"
      ],
      "metadata": {
        "id": "oAqRRaN-8R_x"
      }
    },
    {
      "cell_type": "code",
      "execution_count": null,
      "metadata": {
        "colab": {
          "base_uri": "https://localhost:8080/",
          "height": 36
        },
        "id": "jd2lB3N-c7az",
        "outputId": "b445bbab-9589-4fc6-c4fc-d7aefd8be304"
      },
      "outputs": [
        {
          "output_type": "execute_result",
          "data": {
            "text/plain": [
              "'2.9.2'"
            ],
            "application/vnd.google.colaboratory.intrinsic+json": {
              "type": "string"
            }
          },
          "metadata": {},
          "execution_count": 1
        }
      ],
      "source": [
        "import tensorflow as tf\n",
        "import pandas as pd\n",
        "import numpy as np\n",
        "\n",
        "tf.__version__"
      ]
    },
    {
      "cell_type": "code",
      "source": [
        "# Load the dataset as a dataframe named housing\n",
        "housing = pd.read_csv('kc_house_data.csv')\n",
        "\n",
        "# View price columns\n",
        "print(housing['price'])"
      ],
      "metadata": {
        "colab": {
          "base_uri": "https://localhost:8080/"
        },
        "id": "7-irTngQdSMt",
        "outputId": "be94b7e2-4f4f-43af-e228-a0fa324d470e"
      },
      "execution_count": null,
      "outputs": [
        {
          "output_type": "stream",
          "name": "stdout",
          "text": [
            "0        221900.0\n",
            "1        538000.0\n",
            "2        180000.0\n",
            "3        604000.0\n",
            "4        510000.0\n",
            "           ...   \n",
            "21608    360000.0\n",
            "21609    400000.0\n",
            "21610    402101.0\n",
            "21611    400000.0\n",
            "21612    325000.0\n",
            "Name: price, Length: 21613, dtype: float64\n"
          ]
        }
      ]
    },
    {
      "cell_type": "code",
      "source": [
        "size_log = np.log(np.array(housing['sqft_lot'], np.float32))\n",
        "price_log = np.log(np.array(housing['price'], np.float32))\n",
        "bedrooms = np.array(housing['bedrooms'], np.float32)"
      ],
      "metadata": {
        "id": "7aSg0fsnfugK"
      },
      "execution_count": null,
      "outputs": []
    },
    {
      "cell_type": "code",
      "source": [
        "# Define a linear regression model\n",
        "def linear_regression(intercept, slope, features=size_log):\n",
        "    return intercept + slope * features\n",
        "\n",
        "# Set loss_function() to take the variables as arguments\n",
        "def loss_function(intercept, slope, features=size_log, targets=price_log):\n",
        "    # Set the predicted values\n",
        "    predictions = linear_regression(intercept, slope, features)\n",
        "\n",
        "    # Return the mean squared error loss\n",
        "    return tf.keras.losses.mse(targets, predictions)\n",
        "\n",
        "# Compute the loss function for different slope and intercept values\n",
        "print(loss_function(0.1, 0.1).numpy())\n",
        "print(loss_function(0.1, 0.5).numpy())"
      ],
      "metadata": {
        "colab": {
          "base_uri": "https://localhost:8080/"
        },
        "id": "-mEc_3XK6R7t",
        "outputId": "ce6dab5b-eafb-436a-9b46-77b5befe7ec4"
      },
      "execution_count": null,
      "outputs": [
        {
          "output_type": "stream",
          "name": "stdout",
          "text": [
            "145.44653\n",
            "71.866\n"
          ]
        }
      ]
    },
    {
      "cell_type": "markdown",
      "source": [
        "#### Training Linear Model"
      ],
      "metadata": {
        "id": "oX9WnDbw6kqa"
      }
    },
    {
      "cell_type": "code",
      "source": [
        "import matplotlib.pyplot as plt\n",
        "\n",
        "def plot_results(intercept, slope):\n",
        "    size_range = np.linspace(6,14,100)\n",
        "    price_pred = [intercept + slope * s for s in size_range]\n",
        "    plt.figure(figsize=(8, 8))\n",
        "    plt.scatter(size_log, price_log, color = 'black');\n",
        "    plt.plot(size_range, price_pred, linewidth=3.0, color='red');\n",
        "    plt.xlabel('log(size)');\n",
        "    plt.ylabel('log(price)');\n",
        "    plt.title('Scatterplot of data and fitted regression line');"
      ],
      "metadata": {
        "id": "vlVcChSU6cZY"
      },
      "execution_count": null,
      "outputs": []
    },
    {
      "cell_type": "code",
      "source": [
        "intercept = tf.Variable(0.0, tf.float32)\n",
        "slope = tf.Variable(0.0, tf.float32)\n",
        "\n",
        "# Initialize an adam optimizer\n",
        "opt = tf.keras.optimizers.Adam(learning_rate=0.5)\n",
        "\n",
        "for j in range(100):\n",
        "    # Apply minimize, pass the loss function, and supply the variables\n",
        "    opt.minimize(lambda: loss_function(intercept, slope), var_list=[intercept, slope])\n",
        "\n",
        "    # Print every 10th value of the loss\n",
        "    if j % 10 == 0:\n",
        "        print(loss_function(intercept, slope).numpy())\n",
        "\n",
        "# Plot data and regressoin line\n",
        "plot_results(intercept, slope)"
      ],
      "metadata": {
        "colab": {
          "base_uri": "https://localhost:8080/",
          "height": 694
        },
        "id": "b9sgn5Rr6o2J",
        "outputId": "b6cbcb08-324c-4068-f3e9-f116c2f8022d"
      },
      "execution_count": null,
      "outputs": [
        {
          "output_type": "stream",
          "name": "stdout",
          "text": [
            "65.263725\n",
            "1.4908673\n",
            "2.3815567\n",
            "2.9084811\n",
            "2.611049\n",
            "1.760517\n",
            "1.3468053\n",
            "1.3559624\n",
            "1.288412\n",
            "1.2425313\n"
          ]
        },
        {
          "output_type": "display_data",
          "data": {
            "text/plain": [
              "<Figure size 576x576 with 1 Axes>"
            ],
            "image/png": "[encoded data removed]"
          },
          "metadata": {
            "needs_background": "light"
          }
        }
      ]
    },
    {
      "cell_type": "markdown",
      "source": [
        "#### MUltiple Linear Regression"
      ],
      "metadata": {
        "id": "eDRtEU9n6shV"
      }
    },
    {
      "cell_type": "code",
      "source": [
        "def print_results(params):\n",
        "    return print('loss: {:0.3f}, intercept: {:0.3f}, slope_1: {:0.3f}, slope_2: {:0.3f}'\n",
        "                 .format(loss_function(params).numpy(),\n",
        "                         params[0].numpy(),\n",
        "                         params[1].numpy(),\n",
        "                         params[2].numpy()))"
      ],
      "metadata": {
        "id": "Mu0Qr1EY6qcH"
      },
      "execution_count": null,
      "outputs": []
    },
    {
      "cell_type": "code",
      "source": [
        "params = tf.Variable([0.1, 0.05, 0.02], tf.float32)\n",
        "\n",
        "# Define the linear regression model\n",
        "def linear_regression(params, feature1=size_log, feature2=bedrooms):\n",
        "    return params[0] + feature1 * params[1] + feature2 * params[2]\n",
        "\n",
        "# Define the loss function\n",
        "def loss_function(params, targets=price_log, feature1=size_log, feature2=bedrooms):\n",
        "    # Set the predicted values\n",
        "    predictions = linear_regression(params, feature1, feature2)\n",
        "\n",
        "    # Use the mean absolute error loss\n",
        "    return tf.keras.losses.mae(targets, predictions)\n",
        "\n",
        "# Define the optimize operation\n",
        "opt = tf.keras.optimizers.Adam()\n",
        "\n",
        "# Perform minimization and print trainable variables\n",
        "for j in range(10):\n",
        "    opt.minimize(lambda: loss_function(params), var_list=[params])\n",
        "    print_results(params)"
      ],
      "metadata": {
        "colab": {
          "base_uri": "https://localhost:8080/"
        },
        "id": "Kv07pWs36wAQ",
        "outputId": "ea169218-25df-446b-f2ff-c2b953f1e361"
      },
      "execution_count": null,
      "outputs": [
        {
          "output_type": "stream",
          "name": "stdout",
          "text": [
            "loss: 12.418, intercept: 0.101, slope_1: 0.051, slope_2: 0.021\n",
            "loss: 12.404, intercept: 0.102, slope_1: 0.052, slope_2: 0.022\n",
            "loss: 12.391, intercept: 0.103, slope_1: 0.053, slope_2: 0.023\n",
            "loss: 12.377, intercept: 0.104, slope_1: 0.054, slope_2: 0.024\n",
            "loss: 12.364, intercept: 0.105, slope_1: 0.055, slope_2: 0.025\n",
            "loss: 12.351, intercept: 0.106, slope_1: 0.056, slope_2: 0.026\n",
            "loss: 12.337, intercept: 0.107, slope_1: 0.057, slope_2: 0.027\n",
            "loss: 12.324, intercept: 0.108, slope_1: 0.058, slope_2: 0.028\n",
            "loss: 12.311, intercept: 0.109, slope_1: 0.059, slope_2: 0.029\n",
            "loss: 12.297, intercept: 0.110, slope_1: 0.060, slope_2: 0.030\n"
          ]
        }
      ]
    },
    {
      "cell_type": "markdown",
      "source": [
        "#### Batch Training"
      ],
      "metadata": {
        "id": "Q_5kK-dm6147"
      }
    },
    {
      "cell_type": "code",
      "source": [
        "# preparing to batch train\n",
        "# Define the intercept and slope\n",
        "intercept = tf.Variable(10.0, tf.float32)\n",
        "slope = tf.Variable(0.5, tf.float32)\n",
        "\n",
        "# Define the model\n",
        "def linear_regression(intercept, slope, features):\n",
        "    # Define the predicted values\n",
        "    return intercept + slope * features\n",
        "\n",
        "# Define the loss function\n",
        "def loss_function(intercept, slope, targets, features):\n",
        "    # Define the predicted values\n",
        "    predictions = linear_regression(intercept, slope, features)\n",
        "\n",
        "    # Define the MSE loss\n",
        "    return tf.keras.losses.mse(targets, predictions)"
      ],
      "metadata": {
        "id": "TEB3Irvb6xdr"
      },
      "execution_count": null,
      "outputs": []
    },
    {
      "cell_type": "code",
      "source": [
        "# training a linear model in batches\n",
        "intercept = tf.Variable(10.0, tf.float32)\n",
        "slope = tf.Variable(0.5, tf.float32)\n",
        "\n",
        "# Initialize adam optimizer\n",
        "opt = tf.keras.optimizers.Adam()\n",
        "\n",
        "# Load data in batches\n",
        "for batch in pd.read_csv('kc_house_data.csv', chunksize=100):\n",
        "    size_batch = np.array(batch['sqft_lot'], np.float32)\n",
        "\n",
        "    # Extract the price values for the current batch\n",
        "    price_batch = np.array(batch['price'], np.float32)\n",
        "\n",
        "    # Complete the loss, fill in the variable list, and minimize\n",
        "    opt.minimize(lambda: loss_function(intercept, slope, price_batch, size_batch),\n",
        "                 var_list=[intercept, slope])\n",
        "\n",
        "# Print trained parameters\n",
        "print(intercept.numpy(), slope.numpy())"
      ],
      "metadata": {
        "colab": {
          "base_uri": "https://localhost:8080/"
        },
        "id": "uCTN7Yj_63--",
        "outputId": "6e100bdb-7c3e-469a-f648-ba3b5bcadb4d"
      },
      "execution_count": null,
      "outputs": [
        {
          "output_type": "stream",
          "name": "stdout",
          "text": [
            "10.217888 0.7016001\n"
          ]
        }
      ]
    }
  ]
}